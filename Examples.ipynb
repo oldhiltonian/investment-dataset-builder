{
 "cells": [
  {
   "cell_type": "code",
   "execution_count": 1,
   "id": "5a53e823",
   "metadata": {},
   "outputs": [],
   "source": [
    "from investment_predictions import DataScraper, DataParser\n",
    "from pathlib import Path\n",
    "import pandas as pd\n",
    "import time\n",
    "\n",
    "\n",
    "key_path = Path().home()/'desktop'/'FinancialModellingPrep_API.txt'\n",
    "with open(key_path) as file:\n",
    "    api_key = file.read()"
   ]
  },
  {
   "cell_type": "code",
   "execution_count": 2,
   "id": "cf78b9cb",
   "metadata": {},
   "outputs": [
    {
     "name": "stdout",
     "output_type": "stream",
     "text": [
      "[*********************100%***********************]  1 of 1 completed\n"
     ]
    }
   ],
   "source": [
    "a = DataScraper('AAPL', api_key)"
   ]
  },
  {
   "cell_type": "code",
   "execution_count": 5,
   "id": "35dea88f",
   "metadata": {},
   "outputs": [
    {
     "data": {
      "text/plain": [
       "['Open', 'High', 'Low', 'Close', 'Adj Close', 'Volume']"
      ]
     },
     "execution_count": 5,
     "metadata": {},
     "output_type": "execute_result"
    }
   ],
   "source": [
    "b = DataParser(a.data_dictionary)\n",
    "years = b.is_.date.apply(lambda x: x.split('-')[0])\n",
    "\n",
    "b.price.keys().to_list()"
   ]
  },
  {
   "cell_type": "code",
   "execution_count": 11,
   "id": "a887d641",
   "metadata": {},
   "outputs": [
    {
     "data": {
      "text/plain": [
       "0      AAPLQ12022\n",
       "1      AAPLQ42022\n",
       "2      AAPLQ32022\n",
       "3      AAPLQ22022\n",
       "4      AAPLQ12021\n",
       "          ...    \n",
       "147    AAPLQ21986\n",
       "148    AAPLQ11985\n",
       "149    AAPLQ21985\n",
       "150    AAPLQ31985\n",
       "151    AAPLQ41985\n",
       "Length: 152, dtype: object"
      ]
     },
     "execution_count": 11,
     "metadata": {},
     "output_type": "execute_result"
    }
   ],
   "source": [
    "ticker = b.info['symbol'][0]\n",
    "periods = b.ratios.period\n",
    "years = b.ratios.date.apply(lambda x: x.split('-')[0])\n",
    "ticker+periods+years"
   ]
  },
  {
   "cell_type": "code",
   "execution_count": 18,
   "id": "84c157d7",
   "metadata": {},
   "outputs": [
    {
     "data": {
      "text/plain": [
       "0      AAPL2022-12-31\n",
       "1      AAPL2022-09-24\n",
       "2      AAPL2022-06-25\n",
       "3      AAPL2022-03-26\n",
       "4      AAPL2021-12-25\n",
       "            ...      \n",
       "145    AAPL1986-09-30\n",
       "146    AAPL1986-06-30\n",
       "147    AAPL1986-03-31\n",
       "148    AAPL1985-12-31\n",
       "149    AAPL1985-09-30\n",
       "Name: date, Length: 150, dtype: object"
      ]
     },
     "execution_count": 18,
     "metadata": {},
     "output_type": "execute_result"
    }
   ],
   "source": [
    "b.info['symbol'] + ' ' + [0] + b.is_.date"
   ]
  },
  {
   "cell_type": "code",
   "execution_count": null,
   "id": "42b66e2f",
   "metadata": {},
   "outputs": [],
   "source": []
  }
 ],
 "metadata": {
  "kernelspec": {
   "display_name": "Python 3 (ipykernel)",
   "language": "python",
   "name": "python3"
  },
  "language_info": {
   "codemirror_mode": {
    "name": "ipython",
    "version": 3
   },
   "file_extension": ".py",
   "mimetype": "text/x-python",
   "name": "python",
   "nbconvert_exporter": "python",
   "pygments_lexer": "ipython3",
   "version": "3.10.9"
  }
 },
 "nbformat": 4,
 "nbformat_minor": 5
}
