{
 "cells": [
  {
   "cell_type": "code",
   "execution_count": 1,
   "id": "5a53e823",
   "metadata": {},
   "outputs": [],
   "source": [
    "from investment_predictions import DataScraper, DataParser\n",
    "from pathlib import Path\n",
    "import pandas as pd\n",
    "import time\n",
    "\n",
    "\n",
    "key_path = Path().home()/'desktop'/'FinancialModellingPrep_API.txt'\n",
    "with open(key_path) as file:\n",
    "    api_key = file.read()"
   ]
  },
  {
   "cell_type": "code",
   "execution_count": 2,
   "id": "cf78b9cb",
   "metadata": {},
   "outputs": [
    {
     "name": "stdout",
     "output_type": "stream",
     "text": [
      "[*********************100%***********************]  1 of 1 completed\n"
     ]
    }
   ],
   "source": [
    "a = DataScraper('MSFT', api_key)"
   ]
  },
  {
   "cell_type": "code",
   "execution_count": 3,
   "id": "35dea88f",
   "metadata": {},
   "outputs": [
    {
     "name": "stdout",
     "output_type": "stream",
     "text": [
      "Index(['MSFT-Q2-2022', 'MSFT-Q1-2022', 'MSFT-Q4-2022', 'MSFT-Q3-2022',\n",
      "       'MSFT-Q2-2021', 'MSFT-Q1-2021', 'MSFT-Q4-2021', 'MSFT-Q3-2021',\n",
      "       'MSFT-Q2-2020', 'MSFT-Q1-2020',\n",
      "       ...\n",
      "       'MSFT-Q2-1987', 'MSFT-Q1-1987', 'MSFT-Q4-1987', 'MSFT-Q3-1987',\n",
      "       'MSFT-Q2-1986', 'MSFT-Q1-1986', 'MSFT-Q4-1986', 'MSFT-Q3-1986',\n",
      "       'MSFT-Q2-1985', 'MSFT-Q1-1985'],\n",
      "      dtype='object', length=150)\n"
     ]
    }
   ],
   "source": [
    "b = DataParser(a.data_dictionary)\n"
   ]
  },
  {
   "cell_type": "code",
   "execution_count": 17,
   "id": "b30bca70",
   "metadata": {},
   "outputs": [
    {
     "data": {
      "text/plain": [
       "True"
      ]
     },
     "execution_count": 17,
     "metadata": {},
     "output_type": "execute_result"
    }
   ],
   "source": [
    "b.metrics.index.equals(b.is_.index)"
   ]
  },
  {
   "cell_type": "code",
   "execution_count": 8,
   "id": "7a0fc57f",
   "metadata": {},
   "outputs": [
    {
     "data": {
      "text/plain": [
       "False"
      ]
     },
     "execution_count": 8,
     "metadata": {},
     "output_type": "execute_result"
    }
   ],
   "source": [
    "b.is_.index.equals(b.ratios.index.equals(b.metrics.index))"
   ]
  },
  {
   "cell_type": "code",
   "execution_count": 39,
   "id": "fb0716ff",
   "metadata": {},
   "outputs": [],
   "source": [
    "diffs = []\n",
    "import datetime as dt\n",
    "for i, item in enumerate(b.metrics.date[1:]):\n",
    "    ly, lm, ld = [int(x) for x in b.ratios.date[i].split('-')]\n",
    "    last_date = dt.datetime(ly, lm, ld)\n",
    "    y, m, d = [int(x) for x in item.split('-')]\n",
    "    date_now = dt.datetime(y, m, d)\n",
    "    diffs.append(date_now-last_date)"
   ]
  },
  {
   "cell_type": "code",
   "execution_count": 40,
   "id": "947b67b0",
   "metadata": {},
   "outputs": [
    {
     "data": {
      "text/plain": [
       "[datetime.timedelta(days=-92),\n",
       " datetime.timedelta(days=-92),\n",
       " datetime.timedelta(days=-91),\n",
       " datetime.timedelta(days=-90),\n",
       " datetime.timedelta(days=-92),\n",
       " datetime.timedelta(days=-92),\n",
       " datetime.timedelta(days=-91),\n",
       " datetime.timedelta(days=-90),\n",
       " datetime.timedelta(days=-92),\n",
       " datetime.timedelta(days=-92),\n",
       " datetime.timedelta(days=-91),\n",
       " datetime.timedelta(days=-91),\n",
       " datetime.timedelta(days=-92),\n",
       " datetime.timedelta(days=-92),\n",
       " datetime.timedelta(days=-91),\n",
       " datetime.timedelta(days=-90),\n",
       " datetime.timedelta(days=-92),\n",
       " datetime.timedelta(days=-92),\n",
       " datetime.timedelta(days=-91),\n",
       " datetime.timedelta(days=-90),\n",
       " datetime.timedelta(days=-92),\n",
       " datetime.timedelta(days=-92),\n",
       " datetime.timedelta(days=-91),\n",
       " datetime.timedelta(days=-90),\n",
       " datetime.timedelta(days=-92),\n",
       " datetime.timedelta(days=-92),\n",
       " datetime.timedelta(days=-91),\n",
       " datetime.timedelta(days=-91),\n",
       " datetime.timedelta(days=-92),\n",
       " datetime.timedelta(days=-92),\n",
       " datetime.timedelta(days=-91),\n",
       " datetime.timedelta(days=-90),\n",
       " datetime.timedelta(days=-92),\n",
       " datetime.timedelta(days=-92),\n",
       " datetime.timedelta(days=-91),\n",
       " datetime.timedelta(days=-90),\n",
       " datetime.timedelta(days=-92),\n",
       " datetime.timedelta(days=-92),\n",
       " datetime.timedelta(days=-91),\n",
       " datetime.timedelta(days=-90),\n",
       " datetime.timedelta(days=-92),\n",
       " datetime.timedelta(days=-92),\n",
       " datetime.timedelta(days=-91),\n",
       " datetime.timedelta(days=-91),\n",
       " datetime.timedelta(days=-92),\n",
       " datetime.timedelta(days=-92),\n",
       " datetime.timedelta(days=-91),\n",
       " datetime.timedelta(days=-90),\n",
       " datetime.timedelta(days=-92),\n",
       " datetime.timedelta(days=-92),\n",
       " datetime.timedelta(days=-91),\n",
       " datetime.timedelta(days=-90),\n",
       " datetime.timedelta(days=-92),\n",
       " datetime.timedelta(days=-92),\n",
       " datetime.timedelta(days=-91),\n",
       " datetime.timedelta(days=-90),\n",
       " datetime.timedelta(days=-92),\n",
       " datetime.timedelta(days=-92),\n",
       " datetime.timedelta(days=-91),\n",
       " datetime.timedelta(days=-91),\n",
       " datetime.timedelta(days=-92),\n",
       " datetime.timedelta(days=-92),\n",
       " datetime.timedelta(days=-91),\n",
       " datetime.timedelta(days=-90),\n",
       " datetime.timedelta(days=-92),\n",
       " datetime.timedelta(days=-92),\n",
       " datetime.timedelta(days=-91),\n",
       " datetime.timedelta(days=-90),\n",
       " datetime.timedelta(days=-92),\n",
       " datetime.timedelta(days=-92),\n",
       " datetime.timedelta(days=-91),\n",
       " datetime.timedelta(days=-90),\n",
       " datetime.timedelta(days=-92),\n",
       " datetime.timedelta(days=-92),\n",
       " datetime.timedelta(days=-91),\n",
       " datetime.timedelta(days=-91),\n",
       " datetime.timedelta(days=-92),\n",
       " datetime.timedelta(days=-92),\n",
       " datetime.timedelta(days=-91),\n",
       " datetime.timedelta(days=-90),\n",
       " datetime.timedelta(days=-92),\n",
       " datetime.timedelta(days=-92),\n",
       " datetime.timedelta(days=-91),\n",
       " datetime.timedelta(days=-90),\n",
       " datetime.timedelta(days=-92),\n",
       " datetime.timedelta(days=-92),\n",
       " datetime.timedelta(days=-91),\n",
       " datetime.timedelta(days=-90),\n",
       " datetime.timedelta(days=-92),\n",
       " datetime.timedelta(days=-92),\n",
       " datetime.timedelta(days=-91),\n",
       " datetime.timedelta(days=-91),\n",
       " datetime.timedelta(days=-92),\n",
       " datetime.timedelta(days=-92),\n",
       " datetime.timedelta(days=-91),\n",
       " datetime.timedelta(days=-90),\n",
       " datetime.timedelta(days=-92),\n",
       " datetime.timedelta(days=-92),\n",
       " datetime.timedelta(days=-91),\n",
       " datetime.timedelta(days=-90),\n",
       " datetime.timedelta(days=-92),\n",
       " datetime.timedelta(days=-92),\n",
       " datetime.timedelta(days=-91),\n",
       " datetime.timedelta(days=-90),\n",
       " datetime.timedelta(days=-92),\n",
       " datetime.timedelta(days=-92),\n",
       " datetime.timedelta(days=-91),\n",
       " datetime.timedelta(days=-91),\n",
       " datetime.timedelta(days=-92),\n",
       " datetime.timedelta(days=-92),\n",
       " datetime.timedelta(days=-91),\n",
       " datetime.timedelta(days=-90),\n",
       " datetime.timedelta(days=-92),\n",
       " datetime.timedelta(days=-92),\n",
       " datetime.timedelta(days=-91),\n",
       " datetime.timedelta(days=-90),\n",
       " datetime.timedelta(days=-92),\n",
       " datetime.timedelta(days=-92),\n",
       " datetime.timedelta(days=-91),\n",
       " datetime.timedelta(days=-90),\n",
       " datetime.timedelta(days=-92),\n",
       " datetime.timedelta(days=-92),\n",
       " datetime.timedelta(days=-91),\n",
       " datetime.timedelta(days=-91),\n",
       " datetime.timedelta(days=-92),\n",
       " datetime.timedelta(days=-92),\n",
       " datetime.timedelta(days=-91),\n",
       " datetime.timedelta(days=-90),\n",
       " datetime.timedelta(days=-92),\n",
       " datetime.timedelta(days=-92),\n",
       " datetime.timedelta(days=-91),\n",
       " datetime.timedelta(days=-90),\n",
       " datetime.timedelta(days=-92),\n",
       " datetime.timedelta(days=-92),\n",
       " datetime.timedelta(days=-91),\n",
       " datetime.timedelta(days=-90),\n",
       " datetime.timedelta(days=-92),\n",
       " datetime.timedelta(days=-92),\n",
       " datetime.timedelta(days=-91),\n",
       " datetime.timedelta(days=-91),\n",
       " datetime.timedelta(days=-92),\n",
       " datetime.timedelta(days=-92),\n",
       " datetime.timedelta(days=-91),\n",
       " datetime.timedelta(days=-90),\n",
       " datetime.timedelta(days=-92),\n",
       " datetime.timedelta(days=-92),\n",
       " datetime.timedelta(days=-91),\n",
       " datetime.timedelta(days=-90),\n",
       " datetime.timedelta(days=-92)]"
      ]
     },
     "execution_count": 40,
     "metadata": {},
     "output_type": "execute_result"
    }
   ],
   "source": [
    "diffs"
   ]
  },
  {
   "cell_type": "code",
   "execution_count": 7,
   "id": "7ad365c9",
   "metadata": {},
   "outputs": [
    {
     "name": "stdout",
     "output_type": "stream",
     "text": [
      "Help on function intersection in module pandas.core.indexes.base:\n",
      "\n",
      "intersection(self, other, sort=False)\n",
      "    Form the intersection of two Index objects.\n",
      "    \n",
      "    This returns a new Index with elements common to the index and `other`.\n",
      "    \n",
      "    Parameters\n",
      "    ----------\n",
      "    other : Index or array-like\n",
      "    sort : False or None, default False\n",
      "        Whether to sort the resulting index.\n",
      "    \n",
      "        * False : do not sort the result.\n",
      "        * None : sort the result, except when `self` and `other` are equal\n",
      "          or when the values cannot be compared.\n",
      "    \n",
      "    Returns\n",
      "    -------\n",
      "    intersection : Index\n",
      "    \n",
      "    Examples\n",
      "    --------\n",
      "    >>> idx1 = pd.Index([1, 2, 3, 4])\n",
      "    >>> idx2 = pd.Index([3, 4, 5, 6])\n",
      "    >>> idx1.intersection(idx2)\n",
      "    Int64Index([3, 4], dtype='int64')\n",
      "\n"
     ]
    }
   ],
   "source": [
    "help(pd.Index.intersection)"
   ]
  },
  {
   "cell_type": "code",
   "execution_count": null,
   "id": "f96121b0",
   "metadata": {},
   "outputs": [],
   "source": []
  }
 ],
 "metadata": {
  "kernelspec": {
   "display_name": "Python 3 (ipykernel)",
   "language": "python",
   "name": "python3"
  },
  "language_info": {
   "codemirror_mode": {
    "name": "ipython",
    "version": 3
   },
   "file_extension": ".py",
   "mimetype": "text/x-python",
   "name": "python",
   "nbconvert_exporter": "python",
   "pygments_lexer": "ipython3",
   "version": "3.10.9"
  }
 },
 "nbformat": 4,
 "nbformat_minor": 5
}
