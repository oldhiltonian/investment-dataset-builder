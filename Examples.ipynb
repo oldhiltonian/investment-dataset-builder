{
 "cells": [
  {
   "cell_type": "code",
   "execution_count": 1,
   "id": "5a53e823",
   "metadata": {},
   "outputs": [],
   "source": [
    "from investment_predictions import DataScraper, DataParser\n",
    "from pathlib import Path\n",
    "import pandas as pd\n",
    "import time\n",
    "\n",
    "\n",
    "key_path = Path().home()/'desktop'/'FinancialModellingPrep_API.txt'\n",
    "with open(key_path) as file:\n",
    "    api_key = file.read()"
   ]
  },
  {
   "cell_type": "code",
   "execution_count": 2,
   "id": "cf78b9cb",
   "metadata": {},
   "outputs": [
    {
     "name": "stdout",
     "output_type": "stream",
     "text": [
      "[*********************100%***********************]  1 of 1 completed\n"
     ]
    }
   ],
   "source": [
    "a = DataScraper('MSFT', api_key)"
   ]
  },
  {
   "cell_type": "code",
   "execution_count": 3,
   "id": "35dea88f",
   "metadata": {},
   "outputs": [],
   "source": [
    "b = DataParser(a.data_dictionary)"
   ]
  },
  {
   "cell_type": "code",
   "execution_count": 4,
   "id": "31bd9468",
   "metadata": {},
   "outputs": [
    {
     "data": {
      "text/html": [
       "<div>\n",
       "<style scoped>\n",
       "    .dataframe tbody tr th:only-of-type {\n",
       "        vertical-align: middle;\n",
       "    }\n",
       "\n",
       "    .dataframe tbody tr th {\n",
       "        vertical-align: top;\n",
       "    }\n",
       "\n",
       "    .dataframe thead th {\n",
       "        text-align: right;\n",
       "    }\n",
       "</style>\n",
       "<table border=\"1\" class=\"dataframe\">\n",
       "  <thead>\n",
       "    <tr style=\"text-align: right;\">\n",
       "      <th></th>\n",
       "      <th>Average</th>\n",
       "      <th>High</th>\n",
       "      <th>Low</th>\n",
       "    </tr>\n",
       "  </thead>\n",
       "  <tbody>\n",
       "    <tr>\n",
       "      <th>MSFT-Q2-2022</th>\n",
       "      <td>239.985555</td>\n",
       "      <td>263.920013</td>\n",
       "      <td>213.429993</td>\n",
       "    </tr>\n",
       "    <tr>\n",
       "      <th>MSFT-Q1-2022</th>\n",
       "      <td>264.543809</td>\n",
       "      <td>294.179993</td>\n",
       "      <td>234.410004</td>\n",
       "    </tr>\n",
       "    <tr>\n",
       "      <th>MSFT-Q4-2022</th>\n",
       "      <td>272.233548</td>\n",
       "      <td>315.140015</td>\n",
       "      <td>241.509995</td>\n",
       "    </tr>\n",
       "    <tr>\n",
       "      <th>MSFT-Q3-2022</th>\n",
       "      <td>301.909048</td>\n",
       "      <td>343.130005</td>\n",
       "      <td>270.000000</td>\n",
       "    </tr>\n",
       "    <tr>\n",
       "      <th>MSFT-Q2-2021</th>\n",
       "      <td>324.017937</td>\n",
       "      <td>349.670013</td>\n",
       "      <td>280.250000</td>\n",
       "    </tr>\n",
       "    <tr>\n",
       "      <th>...</th>\n",
       "      <td>...</td>\n",
       "      <td>...</td>\n",
       "      <td>...</td>\n",
       "    </tr>\n",
       "    <tr>\n",
       "      <th>MSFT-Q3-1987</th>\n",
       "      <td>0.253190</td>\n",
       "      <td>0.335938</td>\n",
       "      <td>0.162326</td>\n",
       "    </tr>\n",
       "    <tr>\n",
       "      <th>MSFT-Q2-1986</th>\n",
       "      <td>0.146488</td>\n",
       "      <td>0.177951</td>\n",
       "      <td>0.095486</td>\n",
       "    </tr>\n",
       "    <tr>\n",
       "      <th>MSFT-Q1-1986</th>\n",
       "      <td>0.101776</td>\n",
       "      <td>0.109375</td>\n",
       "      <td>0.090278</td>\n",
       "    </tr>\n",
       "    <tr>\n",
       "      <th>MSFT-Q4-1986</th>\n",
       "      <td>0.108073</td>\n",
       "      <td>0.123264</td>\n",
       "      <td>0.092882</td>\n",
       "    </tr>\n",
       "    <tr>\n",
       "      <th>MSFT-Q3-1986</th>\n",
       "      <td>0.096354</td>\n",
       "      <td>0.103299</td>\n",
       "      <td>0.088542</td>\n",
       "    </tr>\n",
       "  </tbody>\n",
       "</table>\n",
       "<p>148 rows × 3 columns</p>\n",
       "</div>"
      ],
      "text/plain": [
       "                 Average        High         Low\n",
       "MSFT-Q2-2022  239.985555  263.920013  213.429993\n",
       "MSFT-Q1-2022  264.543809  294.179993  234.410004\n",
       "MSFT-Q4-2022  272.233548  315.140015  241.509995\n",
       "MSFT-Q3-2022  301.909048  343.130005  270.000000\n",
       "MSFT-Q2-2021  324.017937  349.670013  280.250000\n",
       "...                  ...         ...         ...\n",
       "MSFT-Q3-1987    0.253190    0.335938    0.162326\n",
       "MSFT-Q2-1986    0.146488    0.177951    0.095486\n",
       "MSFT-Q1-1986    0.101776    0.109375    0.090278\n",
       "MSFT-Q4-1986    0.108073    0.123264    0.092882\n",
       "MSFT-Q3-1986    0.096354    0.103299    0.088542\n",
       "\n",
       "[148 rows x 3 columns]"
      ]
     },
     "execution_count": 4,
     "metadata": {},
     "output_type": "execute_result"
    }
   ],
   "source": [
    "b.price"
   ]
  },
  {
   "cell_type": "code",
   "execution_count": 8,
   "id": "671b0c2a",
   "metadata": {},
   "outputs": [
    {
     "data": {
      "text/plain": [
       "False"
      ]
     },
     "execution_count": 8,
     "metadata": {},
     "output_type": "execute_result"
    }
   ],
   "source": [
    "b.is_.index.equals(b.ratios.index.equals(b.metrics.index))"
   ]
  },
  {
   "cell_type": "code",
   "execution_count": 39,
   "id": "10b17278",
   "metadata": {},
   "outputs": [],
   "source": [
    "diffs = []\n",
    "import datetime as dt\n",
    "for i, item in enumerate(b.metrics.date[1:]):\n",
    "    ly, lm, ld = [int(x) for x in b.ratios.date[i].split('-')]\n",
    "    last_date = dt.datetime(ly, lm, ld)\n",
    "    y, m, d = [int(x) for x in item.split('-')]\n",
    "    date_now = dt.datetime(y, m, d)\n",
    "    diffs.append(date_now-last_date)"
   ]
  },
  {
   "cell_type": "code",
   "execution_count": 40,
   "id": "cd034390",
   "metadata": {},
   "outputs": [
    {
     "data": {
      "text/plain": [
       "[datetime.timedelta(days=-92),\n",
       " datetime.timedelta(days=-92),\n",
       " datetime.timedelta(days=-91),\n",
       " datetime.timedelta(days=-90),\n",
       " datetime.timedelta(days=-92),\n",
       " datetime.timedelta(days=-92),\n",
       " datetime.timedelta(days=-91),\n",
       " datetime.timedelta(days=-90),\n",
       " datetime.timedelta(days=-92),\n",
       " datetime.timedelta(days=-92),\n",
       " datetime.timedelta(days=-91),\n",
       " datetime.timedelta(days=-91),\n",
       " datetime.timedelta(days=-92),\n",
       " datetime.timedelta(days=-92),\n",
       " datetime.timedelta(days=-91),\n",
       " datetime.timedelta(days=-90),\n",
       " datetime.timedelta(days=-92),\n",
       " datetime.timedelta(days=-92),\n",
       " datetime.timedelta(days=-91),\n",
       " datetime.timedelta(days=-90),\n",
       " datetime.timedelta(days=-92),\n",
       " datetime.timedelta(days=-92),\n",
       " datetime.timedelta(days=-91),\n",
       " datetime.timedelta(days=-90),\n",
       " datetime.timedelta(days=-92),\n",
       " datetime.timedelta(days=-92),\n",
       " datetime.timedelta(days=-91),\n",
       " datetime.timedelta(days=-91),\n",
       " datetime.timedelta(days=-92),\n",
       " datetime.timedelta(days=-92),\n",
       " datetime.timedelta(days=-91),\n",
       " datetime.timedelta(days=-90),\n",
       " datetime.timedelta(days=-92),\n",
       " datetime.timedelta(days=-92),\n",
       " datetime.timedelta(days=-91),\n",
       " datetime.timedelta(days=-90),\n",
       " datetime.timedelta(days=-92),\n",
       " datetime.timedelta(days=-92),\n",
       " datetime.timedelta(days=-91),\n",
       " datetime.timedelta(days=-90),\n",
       " datetime.timedelta(days=-92),\n",
       " datetime.timedelta(days=-92),\n",
       " datetime.timedelta(days=-91),\n",
       " datetime.timedelta(days=-91),\n",
       " datetime.timedelta(days=-92),\n",
       " datetime.timedelta(days=-92),\n",
       " datetime.timedelta(days=-91),\n",
       " datetime.timedelta(days=-90),\n",
       " datetime.timedelta(days=-92),\n",
       " datetime.timedelta(days=-92),\n",
       " datetime.timedelta(days=-91),\n",
       " datetime.timedelta(days=-90),\n",
       " datetime.timedelta(days=-92),\n",
       " datetime.timedelta(days=-92),\n",
       " datetime.timedelta(days=-91),\n",
       " datetime.timedelta(days=-90),\n",
       " datetime.timedelta(days=-92),\n",
       " datetime.timedelta(days=-92),\n",
       " datetime.timedelta(days=-91),\n",
       " datetime.timedelta(days=-91),\n",
       " datetime.timedelta(days=-92),\n",
       " datetime.timedelta(days=-92),\n",
       " datetime.timedelta(days=-91),\n",
       " datetime.timedelta(days=-90),\n",
       " datetime.timedelta(days=-92),\n",
       " datetime.timedelta(days=-92),\n",
       " datetime.timedelta(days=-91),\n",
       " datetime.timedelta(days=-90),\n",
       " datetime.timedelta(days=-92),\n",
       " datetime.timedelta(days=-92),\n",
       " datetime.timedelta(days=-91),\n",
       " datetime.timedelta(days=-90),\n",
       " datetime.timedelta(days=-92),\n",
       " datetime.timedelta(days=-92),\n",
       " datetime.timedelta(days=-91),\n",
       " datetime.timedelta(days=-91),\n",
       " datetime.timedelta(days=-92),\n",
       " datetime.timedelta(days=-92),\n",
       " datetime.timedelta(days=-91),\n",
       " datetime.timedelta(days=-90),\n",
       " datetime.timedelta(days=-92),\n",
       " datetime.timedelta(days=-92),\n",
       " datetime.timedelta(days=-91),\n",
       " datetime.timedelta(days=-90),\n",
       " datetime.timedelta(days=-92),\n",
       " datetime.timedelta(days=-92),\n",
       " datetime.timedelta(days=-91),\n",
       " datetime.timedelta(days=-90),\n",
       " datetime.timedelta(days=-92),\n",
       " datetime.timedelta(days=-92),\n",
       " datetime.timedelta(days=-91),\n",
       " datetime.timedelta(days=-91),\n",
       " datetime.timedelta(days=-92),\n",
       " datetime.timedelta(days=-92),\n",
       " datetime.timedelta(days=-91),\n",
       " datetime.timedelta(days=-90),\n",
       " datetime.timedelta(days=-92),\n",
       " datetime.timedelta(days=-92),\n",
       " datetime.timedelta(days=-91),\n",
       " datetime.timedelta(days=-90),\n",
       " datetime.timedelta(days=-92),\n",
       " datetime.timedelta(days=-92),\n",
       " datetime.timedelta(days=-91),\n",
       " datetime.timedelta(days=-90),\n",
       " datetime.timedelta(days=-92),\n",
       " datetime.timedelta(days=-92),\n",
       " datetime.timedelta(days=-91),\n",
       " datetime.timedelta(days=-91),\n",
       " datetime.timedelta(days=-92),\n",
       " datetime.timedelta(days=-92),\n",
       " datetime.timedelta(days=-91),\n",
       " datetime.timedelta(days=-90),\n",
       " datetime.timedelta(days=-92),\n",
       " datetime.timedelta(days=-92),\n",
       " datetime.timedelta(days=-91),\n",
       " datetime.timedelta(days=-90),\n",
       " datetime.timedelta(days=-92),\n",
       " datetime.timedelta(days=-92),\n",
       " datetime.timedelta(days=-91),\n",
       " datetime.timedelta(days=-90),\n",
       " datetime.timedelta(days=-92),\n",
       " datetime.timedelta(days=-92),\n",
       " datetime.timedelta(days=-91),\n",
       " datetime.timedelta(days=-91),\n",
       " datetime.timedelta(days=-92),\n",
       " datetime.timedelta(days=-92),\n",
       " datetime.timedelta(days=-91),\n",
       " datetime.timedelta(days=-90),\n",
       " datetime.timedelta(days=-92),\n",
       " datetime.timedelta(days=-92),\n",
       " datetime.timedelta(days=-91),\n",
       " datetime.timedelta(days=-90),\n",
       " datetime.timedelta(days=-92),\n",
       " datetime.timedelta(days=-92),\n",
       " datetime.timedelta(days=-91),\n",
       " datetime.timedelta(days=-90),\n",
       " datetime.timedelta(days=-92),\n",
       " datetime.timedelta(days=-92),\n",
       " datetime.timedelta(days=-91),\n",
       " datetime.timedelta(days=-91),\n",
       " datetime.timedelta(days=-92),\n",
       " datetime.timedelta(days=-92),\n",
       " datetime.timedelta(days=-91),\n",
       " datetime.timedelta(days=-90),\n",
       " datetime.timedelta(days=-92),\n",
       " datetime.timedelta(days=-92),\n",
       " datetime.timedelta(days=-91),\n",
       " datetime.timedelta(days=-90),\n",
       " datetime.timedelta(days=-92)]"
      ]
     },
     "execution_count": 40,
     "metadata": {},
     "output_type": "execute_result"
    }
   ],
   "source": [
    "diffs"
   ]
  },
  {
   "cell_type": "code",
   "execution_count": 7,
   "id": "1186df88",
   "metadata": {},
   "outputs": [
    {
     "name": "stdout",
     "output_type": "stream",
     "text": [
      "Help on function intersection in module pandas.core.indexes.base:\n",
      "\n",
      "intersection(self, other, sort=False)\n",
      "    Form the intersection of two Index objects.\n",
      "    \n",
      "    This returns a new Index with elements common to the index and `other`.\n",
      "    \n",
      "    Parameters\n",
      "    ----------\n",
      "    other : Index or array-like\n",
      "    sort : False or None, default False\n",
      "        Whether to sort the resulting index.\n",
      "    \n",
      "        * False : do not sort the result.\n",
      "        * None : sort the result, except when `self` and `other` are equal\n",
      "          or when the values cannot be compared.\n",
      "    \n",
      "    Returns\n",
      "    -------\n",
      "    intersection : Index\n",
      "    \n",
      "    Examples\n",
      "    --------\n",
      "    >>> idx1 = pd.Index([1, 2, 3, 4])\n",
      "    >>> idx2 = pd.Index([3, 4, 5, 6])\n",
      "    >>> idx1.intersection(idx2)\n",
      "    Int64Index([3, 4], dtype='int64')\n",
      "\n"
     ]
    }
   ],
   "source": [
    "help(pd.Index.intersection)"
   ]
  },
  {
   "cell_type": "code",
   "execution_count": 7,
   "id": "8fa4f428",
   "metadata": {},
   "outputs": [
    {
     "data": {
      "text/plain": [
       "pandas._libs.tslibs.timestamps.Timestamp"
      ]
     },
     "execution_count": 7,
     "metadata": {},
     "output_type": "execute_result"
    }
   ],
   "source": [
    "type(b.data_dictionary['price'][0].index[0])"
   ]
  },
  {
   "cell_type": "code",
   "execution_count": 9,
   "id": "7471e29a",
   "metadata": {},
   "outputs": [],
   "source": [
    "from pandas._libs.tslibs.timestamps import Timestamp"
   ]
  },
  {
   "cell_type": "code",
   "execution_count": 10,
   "id": "1c398953",
   "metadata": {},
   "outputs": [
    {
     "data": {
      "text/plain": [
       "Timestamp('2020-10-01 00:00:00')"
      ]
     },
     "execution_count": 10,
     "metadata": {},
     "output_type": "execute_result"
    }
   ],
   "source": [
    "Timestamp(\"2020-10-01\")"
   ]
  },
  {
   "cell_type": "code",
   "execution_count": null,
   "id": "64914be3",
   "metadata": {},
   "outputs": [],
   "source": []
  }
 ],
 "metadata": {
  "kernelspec": {
   "display_name": "Python 3 (ipykernel)",
   "language": "python",
   "name": "python3"
  },
  "language_info": {
   "codemirror_mode": {
    "name": "ipython",
    "version": 3
   },
   "file_extension": ".py",
   "mimetype": "text/x-python",
   "name": "python",
   "nbconvert_exporter": "python",
   "pygments_lexer": "ipython3",
   "version": "3.10.9"
  }
 },
 "nbformat": 4,
 "nbformat_minor": 5
}
